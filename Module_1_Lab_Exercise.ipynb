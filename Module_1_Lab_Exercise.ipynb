{
  "nbformat": 4,
  "nbformat_minor": 0,
  "metadata": {
    "colab": {
      "private_outputs": true,
      "provenance": [],
      "authorship_tag": "ABX9TyOKAF0LOdS0++5sKwqUPkZX",
      "include_colab_link": true
    },
    "kernelspec": {
      "name": "python3",
      "display_name": "Python 3"
    },
    "language_info": {
      "name": "python"
    }
  },
  "cells": [
    {
      "cell_type": "markdown",
      "metadata": {
        "id": "view-in-github",
        "colab_type": "text"
      },
      "source": [
        "<a href=\"https://colab.research.google.com/github/3R3NY34G3R/for--CPE-311/blob/main/Module_1_Lab_Exercise.ipynb\" target=\"_parent\"><img src=\"https://colab.research.google.com/assets/colab-badge.svg\" alt=\"Open In Colab\"/></a>"
      ]
    },
    {
      "cell_type": "code",
      "execution_count": null,
      "metadata": {
        "id": "JRiv7eRyD43Y"
      },
      "outputs": [],
      "source": [
        "# create a class that you can only take course\n",
        "# that have the parameters CODE and UNITS\n",
        "class maxCourses(object):\n",
        "  def __init__(self,code,units):\n",
        "    self.course_code = code\n",
        "    self.unit = units\n",
        "\n",
        "  def get_course_code(self):\n",
        "    return self.course_code\n",
        "\n",
        "  def getUnits(self):\n",
        "    return self.unit\n",
        "\n",
        "  def __str__(self):\n",
        "    return f\"{self.get_course_code()}: <{str(self.getUnits())}>\""
      ]
    },
    {
      "cell_type": "code",
      "source": [
        "#create function for courses\n",
        "def class_list(codes,getUnits):\n",
        "  courseList = [] # place holder\n",
        "  total_units = 0\n",
        "  for i in range(len(codes)):\n",
        "    courseList.append(maxCourses(codes[i],getUnits[i]))\n",
        "  return courseList"
      ],
      "metadata": {
        "id": "AKffJLYwD5zm"
      },
      "execution_count": null,
      "outputs": []
    },
    {
      "cell_type": "code",
      "source": [
        "# function for sorting\n",
        "def sortUnit(course):\n",
        "  return course.getUnits()"
      ],
      "metadata": {
        "id": "C99MrKCsoKkx"
      },
      "execution_count": null,
      "outputs": []
    },
    {
      "cell_type": "code",
      "source": [
        "def greedyMethod(courses,defUnit=18):\n",
        "  sortedCourses=sorted(courses, key=sortUnit ) # sorted\n",
        "\n",
        "  pickedCourse = []\n",
        "  totalUnits = 0\n",
        "\n",
        "  for course in sortedCourses:\n",
        "    if totalUnits + course.getUnits() <= defUnit:\n",
        "      pickedCourse.append(course)\n",
        "      totalUnits = totalUnits + course.getUnits()\n",
        "\n",
        "  return pickedCourse,totalUnits"
      ],
      "metadata": {
        "id": "kRd_BH54oklu"
      },
      "execution_count": null,
      "outputs": []
    },
    {
      "cell_type": "code",
      "source": [
        "def testGreedy(courseCodes,secUnit,defUnit=18):\n",
        "  currentCourse = class_list(courseCodes,secUnit)\n",
        "  listOfcourses , totalUnits = greedyMethod(currentCourse,defUnit)\n",
        "\n",
        "  print(f\"Total Units Taken: {totalUnits}/{defUnit}\")\n",
        "  print(\"Selected Courses:\")\n",
        "  for course in listOfcourses:\n",
        "    print(f\" {course}\")"
      ],
      "metadata": {
        "id": "isiau3i1qMzC"
      },
      "execution_count": null,
      "outputs": []
    },
    {
      "cell_type": "code",
      "source": [
        "section = ['CPE 021A', 'MATH 020', 'CPE 015A', 'PE4', 'CPE 011A', 'CPE311', 'CPE 013', 'CPE008', 'CPE 302',]\n",
        "secUnit = [1, 3, 3, 2, 2, 3, 4, 1, 3,]\n",
        "maxUnits=24\n",
        "\n",
        "testGreedy(section,secUnit)\n",
        "print(\" \")\n",
        "testGreedy(section,secUnit,maxUnits)\n",
        "\n"
      ],
      "metadata": {
        "id": "0ndT7MIZD8PQ"
      },
      "execution_count": null,
      "outputs": []
    }
  ]
}